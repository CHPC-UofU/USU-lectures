{
 "cells": [
  {
   "cell_type": "markdown",
   "metadata": {},
   "source": [
    "Independent parallel example with Dask, from https://examples.dask.org/applications/embarrassingly-parallel.html\n",
    "    \n",
    "Before running this notebook do the following in the terminal of one of the cluster login nodes:\n",
    "\n",
    "1. Install Miniconda3 as listed in https://www.chpc.utah.edu/documentation/software/python-anaconda.php, that is:\n",
    "        \n",
    "> wget https://repo.continuum.io/miniconda/Miniconda3-latest-Linux-x86_64.sh  \n",
    "> bash ./Miniconda3-latest-Linux-x86_64.sh -b -p $HOME/software/pkg/miniconda3  \n",
    "> mkdir -p $HOME/MyModules/miniconda3  \n",
    "> cp /uufs/chpc.utah.edu/sys/installdir/python/modules/miniconda3/latest.lua $HOME/MyModules/miniconda3 \n",
    "\n",
    "2. In the terminal, load the new miniconda3 module and install Dask\n",
    "> module use $HOME/MyModules  \n",
    "> module load miniconda3/latest  \n",
    "> conda install dask \n",
    "\n",
    "3. Log into ondemand.chpc.utah.edu with your CHPC creditentials\n",
    "\n",
    "4. Go to Interactive Apps - Jupyter Notebook on notchpeak\n",
    "\n",
    "5. In the Environment Setup text box, put:\n",
    "> module use $HOME/MyModules  \n",
    "> module load miniconda3/latest  \n",
    "this will make sure the Jupyter notebook started through the Open OnDemand job will load your own miniconda that has Dask installed.\n",
    "\n",
    "6. Use notchpeak-shared-short for account and partition, and select your choice of CPU cores and walltime hours (within the listed limits). Then hit Launch to submit the job.\n",
    "\n",
    "7. Once the job starts, hit the blue Connect to Jupyter button and open this notebook in it.\n"
   ]
  },
  {
   "cell_type": "markdown",
   "metadata": {},
   "source": [
    "We are following embarrassingly parallel example at https://examples.dask.org/applications/embarrassingly-parallel.html"
   ]
  },
  {
   "cell_type": "code",
   "execution_count": 1,
   "metadata": {},
   "outputs": [
    {
     "data": {
      "text/html": [
       "<table style=\"border: 2px solid white;\">\n",
       "<tr>\n",
       "<td style=\"vertical-align: top; border: 0px solid white\">\n",
       "<h3 style=\"text-align: left;\">Client</h3>\n",
       "<ul style=\"text-align: left; list-style: none; margin: 0; padding: 0;\">\n",
       "  <li><b>Scheduler: </b>tcp://127.0.0.1:44193</li>\n",
       "  <li><b>Dashboard: </b><a href='http://127.0.0.1:8787/status' target='_blank'>http://127.0.0.1:8787/status</a>\n",
       "</ul>\n",
       "</td>\n",
       "<td style=\"vertical-align: top; border: 0px solid white\">\n",
       "<h3 style=\"text-align: left;\">Cluster</h3>\n",
       "<ul style=\"text-align: left; list-style:none; margin: 0; padding: 0;\">\n",
       "  <li><b>Workers: </b>1</li>\n",
       "  <li><b>Cores: </b>4</li>\n",
       "  <li><b>Memory: </b>4.19 GB</li>\n",
       "</ul>\n",
       "</td>\n",
       "</tr>\n",
       "</table>"
      ],
      "text/plain": [
       "<Client: 'tcp://127.0.0.1:44193' processes=1 threads=4, memory=4.19 GB>"
      ]
     },
     "execution_count": 1,
     "metadata": {},
     "output_type": "execute_result"
    }
   ],
   "source": [
    "from dask.distributed import Client, progress\n",
    "client = Client(threads_per_worker=4, n_workers=1)\n",
    "client"
   ]
  },
  {
   "cell_type": "code",
   "execution_count": 2,
   "metadata": {},
   "outputs": [],
   "source": [
    "import time\n",
    "import random\n",
    "\n",
    "def costly_simulation(list_param):\n",
    "    time.sleep(random.random())\n",
    "    return sum(list_param)"
   ]
  },
  {
   "cell_type": "code",
   "execution_count": 3,
   "metadata": {},
   "outputs": [
    {
     "name": "stdout",
     "output_type": "stream",
     "text": [
      "CPU times: user 7.44 ms, sys: 2.01 ms, total: 9.45 ms\n",
      "Wall time: 98.6 ms\n"
     ]
    },
    {
     "data": {
      "text/plain": [
       "10"
      ]
     },
     "execution_count": 3,
     "metadata": {},
     "output_type": "execute_result"
    }
   ],
   "source": [
    "%time costly_simulation([1, 2, 3, 4])"
   ]
  },
  {
   "cell_type": "code",
   "execution_count": 4,
   "metadata": {},
   "outputs": [
    {
     "data": {
      "text/html": [
       "<div>\n",
       "<style scoped>\n",
       "    .dataframe tbody tr th:only-of-type {\n",
       "        vertical-align: middle;\n",
       "    }\n",
       "\n",
       "    .dataframe tbody tr th {\n",
       "        vertical-align: top;\n",
       "    }\n",
       "\n",
       "    .dataframe thead th {\n",
       "        text-align: right;\n",
       "    }\n",
       "</style>\n",
       "<table border=\"1\" class=\"dataframe\">\n",
       "  <thead>\n",
       "    <tr style=\"text-align: right;\">\n",
       "      <th></th>\n",
       "      <th>param_a</th>\n",
       "      <th>param_b</th>\n",
       "      <th>param_c</th>\n",
       "      <th>param_d</th>\n",
       "    </tr>\n",
       "  </thead>\n",
       "  <tbody>\n",
       "    <tr>\n",
       "      <td>0</td>\n",
       "      <td>0.596837</td>\n",
       "      <td>0.561082</td>\n",
       "      <td>0.429463</td>\n",
       "      <td>0.473729</td>\n",
       "    </tr>\n",
       "    <tr>\n",
       "      <td>1</td>\n",
       "      <td>0.354301</td>\n",
       "      <td>0.843361</td>\n",
       "      <td>0.727380</td>\n",
       "      <td>0.266897</td>\n",
       "    </tr>\n",
       "    <tr>\n",
       "      <td>2</td>\n",
       "      <td>0.827863</td>\n",
       "      <td>0.472732</td>\n",
       "      <td>0.336698</td>\n",
       "      <td>0.986588</td>\n",
       "    </tr>\n",
       "    <tr>\n",
       "      <td>3</td>\n",
       "      <td>0.098369</td>\n",
       "      <td>0.119939</td>\n",
       "      <td>0.363779</td>\n",
       "      <td>0.392682</td>\n",
       "    </tr>\n",
       "    <tr>\n",
       "      <td>4</td>\n",
       "      <td>0.718471</td>\n",
       "      <td>0.309634</td>\n",
       "      <td>0.980632</td>\n",
       "      <td>0.982298</td>\n",
       "    </tr>\n",
       "  </tbody>\n",
       "</table>\n",
       "</div>"
      ],
      "text/plain": [
       "    param_a   param_b   param_c   param_d\n",
       "0  0.596837  0.561082  0.429463  0.473729\n",
       "1  0.354301  0.843361  0.727380  0.266897\n",
       "2  0.827863  0.472732  0.336698  0.986588\n",
       "3  0.098369  0.119939  0.363779  0.392682\n",
       "4  0.718471  0.309634  0.980632  0.982298"
      ]
     },
     "execution_count": 4,
     "metadata": {},
     "output_type": "execute_result"
    }
   ],
   "source": [
    "import pandas as pd\n",
    "import numpy as np\n",
    "\n",
    "input_params = pd.DataFrame(np.random.random(size=(500, 4)),\n",
    "                            columns=['param_a', 'param_b', 'param_c', 'param_d'])\n",
    "input_params.head()"
   ]
  },
  {
   "cell_type": "code",
   "execution_count": 5,
   "metadata": {},
   "outputs": [
    {
     "name": "stdout",
     "output_type": "stream",
     "text": [
      "CPU times: user 134 ms, sys: 31.3 ms, total: 165 ms\n",
      "Wall time: 4.27 s\n"
     ]
    },
    {
     "data": {
      "text/plain": [
       "[2.0611104661055744,\n",
       " 2.1919391753293813,\n",
       " 2.623881531073982,\n",
       " 0.9747683500528982,\n",
       " 2.991035546149825,\n",
       " 0.9627170938083086,\n",
       " 2.203029404493799,\n",
       " 2.541805980108227,\n",
       " 1.2280634650473525,\n",
       " 1.936713653567948]"
      ]
     },
     "execution_count": 5,
     "metadata": {},
     "output_type": "execute_result"
    }
   ],
   "source": [
    "%%time\n",
    "results = []\n",
    "for parameters in input_params.values[:10]:\n",
    "    result = costly_simulation(parameters)\n",
    "    results.append(result)\n",
    "results"
   ]
  },
  {
   "cell_type": "code",
   "execution_count": 6,
   "metadata": {},
   "outputs": [],
   "source": [
    "import dask\n",
    "lazy_results = []"
   ]
  },
  {
   "cell_type": "code",
   "execution_count": 7,
   "metadata": {},
   "outputs": [
    {
     "name": "stdout",
     "output_type": "stream",
     "text": [
      "CPU times: user 3.28 ms, sys: 2.82 ms, total: 6.1 ms\n",
      "Wall time: 5.52 ms\n"
     ]
    },
    {
     "data": {
      "text/plain": [
       "Delayed('costly_simulation-34ceeba3-6b19-4e46-96a6-9abef86cce6c')"
      ]
     },
     "execution_count": 7,
     "metadata": {},
     "output_type": "execute_result"
    }
   ],
   "source": [
    "%%time\n",
    "\n",
    "for parameters in input_params.values[:10]:\n",
    "    lazy_result = dask.delayed(costly_simulation)(parameters)\n",
    "    lazy_results.append(lazy_result)\n",
    "lazy_results[0]"
   ]
  },
  {
   "cell_type": "code",
   "execution_count": 8,
   "metadata": {},
   "outputs": [
    {
     "name": "stdout",
     "output_type": "stream",
     "text": [
      "CPU times: user 92.4 ms, sys: 15.9 ms, total: 108 ms\n",
      "Wall time: 1.39 s\n"
     ]
    },
    {
     "data": {
      "text/plain": [
       "(2.0611104661055744,\n",
       " 2.1919391753293813,\n",
       " 2.623881531073982,\n",
       " 0.9747683500528982,\n",
       " 2.991035546149825,\n",
       " 0.9627170938083086,\n",
       " 2.203029404493799,\n",
       " 2.541805980108227,\n",
       " 1.2280634650473525,\n",
       " 1.936713653567948)"
      ]
     },
     "execution_count": 8,
     "metadata": {},
     "output_type": "execute_result"
    }
   ],
   "source": [
    "%time dask.compute(*lazy_results)"
   ]
  },
  {
   "cell_type": "code",
   "execution_count": 9,
   "metadata": {},
   "outputs": [],
   "source": [
    "import dask\n",
    "lazy_results = []\n",
    "\n",
    "for parameters in input_params.values:\n",
    "    lazy_result = dask.delayed(costly_simulation)(parameters)\n",
    "    lazy_results.append(lazy_result)\n",
    "\n",
    "futures = dask.persist(*lazy_results)  # trigger computation in the background"
   ]
  },
  {
   "cell_type": "code",
   "execution_count": 10,
   "metadata": {},
   "outputs": [
    {
     "name": "stdout",
     "output_type": "stream",
     "text": [
      "CPU times: user 3.93 s, sys: 556 ms, total: 4.48 s\n",
      "Wall time: 57.1 s\n"
     ]
    },
    {
     "data": {
      "text/plain": [
       "(2.0611104661055744,\n",
       " 2.1919391753293813,\n",
       " 2.623881531073982,\n",
       " 0.9747683500528982,\n",
       " 2.991035546149825)"
      ]
     },
     "execution_count": 10,
     "metadata": {},
     "output_type": "execute_result"
    }
   ],
   "source": [
    "%time results = dask.compute(*futures)\n",
    "results[:5]"
   ]
  },
  {
   "cell_type": "code",
   "execution_count": 11,
   "metadata": {},
   "outputs": [
    {
     "data": {
      "text/html": [
       "<table style=\"border: 2px solid white;\">\n",
       "<tr>\n",
       "<td style=\"vertical-align: top; border: 0px solid white\">\n",
       "<h3 style=\"text-align: left;\">Client</h3>\n",
       "<ul style=\"text-align: left; list-style: none; margin: 0; padding: 0;\">\n",
       "  <li><b>Scheduler: </b>tcp://127.0.0.1:37257</li>\n",
       "  <li><b>Dashboard: </b><a href='http://127.0.0.1:8787/status' target='_blank'>http://127.0.0.1:8787/status</a>\n",
       "</ul>\n",
       "</td>\n",
       "<td style=\"vertical-align: top; border: 0px solid white\">\n",
       "<h3 style=\"text-align: left;\">Cluster</h3>\n",
       "<ul style=\"text-align: left; list-style:none; margin: 0; padding: 0;\">\n",
       "  <li><b>Workers: </b>1</li>\n",
       "  <li><b>Cores: </b>4</li>\n",
       "  <li><b>Memory: </b>4.19 GB</li>\n",
       "</ul>\n",
       "</td>\n",
       "</tr>\n",
       "</table>"
      ],
      "text/plain": [
       "<Client: 'tcp://127.0.0.1:37257' processes=1 threads=4, memory=4.19 GB>"
      ]
     },
     "execution_count": 11,
     "metadata": {},
     "output_type": "execute_result"
    }
   ],
   "source": [
    "client"
   ]
  }
 ],
 "metadata": {
  "kernelspec": {
   "display_name": "Python 3",
   "language": "python",
   "name": "python3"
  },
  "language_info": {
   "codemirror_mode": {
    "name": "ipython",
    "version": 3
   },
   "file_extension": ".py",
   "mimetype": "text/x-python",
   "name": "python",
   "nbconvert_exporter": "python",
   "pygments_lexer": "ipython3",
   "version": "3.7.3"
  }
 },
 "nbformat": 4,
 "nbformat_minor": 2
}
